{
  "nbformat": 4,
  "nbformat_minor": 0,
  "metadata": {
    "colab": {
      "name": "if else 2",
      "provenance": [],
      "collapsed_sections": [],
      "include_colab_link": true
    },
    "kernelspec": {
      "name": "python3",
      "display_name": "Python 3"
    }
  },
  "cells": [
    {
      "cell_type": "markdown",
      "metadata": {
        "id": "view-in-github",
        "colab_type": "text"
      },
      "source": [
        "<a href=\"https://colab.research.google.com/github/habibanalytics/Python_Exercises/blob/master/Control%20Flow/if_else_2.ipynb\" target=\"_parent\"><img src=\"https://colab.research.google.com/assets/colab-badge.svg\" alt=\"Open In Colab\"/></a>"
      ]
    },
    {
      "cell_type": "markdown",
      "metadata": {
        "id": "ksxlK3avL4R_"
      },
      "source": [
        "# **These problems are taken from the link:**\r\n",
        "[Python basic (Part -I) 150 exercises ](https://www.w3resource.com/python-exercises/python-basic-exercises.php)"
      ]
    },
    {
      "cell_type": "markdown",
      "metadata": {
        "id": "ZfavRlLwXSsv"
      },
      "source": [
        "### **Exercise no 16:**\n",
        "Write a Python program to get the difference between a given number and 17, if the number is greater than 17 return double the absolute difference."
      ]
    },
    {
      "cell_type": "code",
      "metadata": {
        "id": "SRqfV6eLXSpz"
      },
      "source": [
        "def check():\n",
        "    num= int(input(\"Enter a number: \"))\n",
        "    diff= abs(num-17)\n",
        "    if num > 17:\n",
        "        return diff*2\n",
        "    else:\n",
        "        return diff\n",
        "print(check())"
      ],
      "execution_count": null,
      "outputs": []
    },
    {
      "cell_type": "markdown",
      "metadata": {
        "id": "EDNA4YtzXSmi"
      },
      "source": [
        "### **Exercise no 18:**\n",
        "Write a Python program to calculate the sum of three given numbers, if the values are equal then return three times of their sum."
      ]
    },
    {
      "cell_type": "code",
      "metadata": {
        "id": "dUTHIKaVXSke",
        "colab": {
          "base_uri": "https://localhost:8080/",
          "height": 85
        },
        "outputId": "0c1b7670-baa3-4771-fa5c-ed507de2a345"
      },
      "source": [
        "def check():\n",
        "    num1= int(input(\"Enter a number: \"))\n",
        "    num2= int(input(\"Enter a number: \"))\n",
        "    num3= int(input(\"Enter a number: \"))\n",
        "    sum= num1+num2+num3\n",
        "    if num1==num2==num3:\n",
        "        return sum*3\n",
        "    else:\n",
        "        return sum\n",
        "print(check())"
      ],
      "execution_count": null,
      "outputs": [
        {
          "output_type": "stream",
          "text": [
            "Enter a number: 23\n",
            "Enter a number: 23\n",
            "Enter a number: 23\n",
            "207\n"
          ],
          "name": "stdout"
        }
      ]
    },
    {
      "cell_type": "markdown",
      "metadata": {
        "id": "IPl1KZXkXSXy"
      },
      "source": [
        "### **Exercise no 21:**\n",
        "Write a Python program to find whether a given number (accept from the user) is even or odd, print out an appropriate message to the user."
      ]
    },
    {
      "cell_type": "code",
      "metadata": {
        "id": "0vuIPPrxXSVS",
        "colab": {
          "base_uri": "https://localhost:8080/",
          "height": 51
        },
        "outputId": "004afb16-1949-4264-bd11-c227d1f515f3"
      },
      "source": [
        "def check():\n",
        "    num= int(input(\"Enter a number: \"))\n",
        "    if num % 2 == 0:\n",
        "        return \"even\"\n",
        "    else:\n",
        "        return \"odd\"\n",
        "print(check())"
      ],
      "execution_count": null,
      "outputs": [
        {
          "output_type": "stream",
          "text": [
            "Enter a number: 2\n",
            "even\n"
          ],
          "name": "stdout"
        }
      ]
    },
    {
      "cell_type": "markdown",
      "metadata": {
        "id": "iMcvqbi6XSRQ"
      },
      "source": [
        "### **Exercise no 23:**\n",
        "Write a Python program to get the n (non-negative integer) copies of the first 2 characters of a given string. Return the n copies of the whole string if the length is less than 2"
      ]
    },
    {
      "cell_type": "code",
      "metadata": {
        "id": "L6-oeJhpXSOj",
        "colab": {
          "base_uri": "https://localhost:8080/",
          "height": 68
        },
        "outputId": "76bd99c8-3096-4505-e8ef-92623ac69474"
      },
      "source": [
        "string= input(\"Enter a a string: \")\n",
        "num = int(input(\"Enter a a Number: \"))\n",
        "print(string[:2]*num)"
      ],
      "execution_count": null,
      "outputs": [
        {
          "output_type": "stream",
          "text": [
            "Enter a a string: hjsgdkas\n",
            "Enter a a Number: 5\n",
            "hjhjhjhjhj\n"
          ],
          "name": "stdout"
        }
      ]
    },
    {
      "cell_type": "markdown",
      "metadata": {
        "id": "8FouyxiJXSLb"
      },
      "source": [
        "### **Exercise no 24:**\n",
        "Write a Python program to test whether a passed letter is a vowel or not."
      ]
    },
    {
      "cell_type": "code",
      "metadata": {
        "id": "Ub2PSIAjXSIK",
        "colab": {
          "base_uri": "https://localhost:8080/",
          "height": 51
        },
        "outputId": "4d1ee9f5-441f-4499-8c99-37df89a1b955"
      },
      "source": [
        "def check_vowel():\n",
        "    letter= input(\"Enter a letter: \")\n",
        "    if letter in [\"a\",\"e\",\"i\",\"o\",\"u\",\"A\",\"E\",\"I\",\"O\",\"U\"]:\n",
        "        return \"Vowel\"\n",
        "    else:\n",
        "        return \"Consonant\"\n",
        "print(check_vowel())\n",
        "    \n"
      ],
      "execution_count": null,
      "outputs": [
        {
          "output_type": "stream",
          "text": [
            "Enter a letter: A\n",
            "Vowel\n"
          ],
          "name": "stdout"
        }
      ]
    },
    {
      "cell_type": "markdown",
      "metadata": {
        "id": "y8Lz0SgWXR-y"
      },
      "source": [
        "### **Exercise no 33:**\n",
        "Write a Python program to sum of three given integers. However, if two values are equal sum will be zero. "
      ]
    },
    {
      "cell_type": "code",
      "metadata": {
        "id": "H1Xu5_t6XR8D",
        "colab": {
          "base_uri": "https://localhost:8080/",
          "height": 85
        },
        "outputId": "506c1803-a73c-44d0-f563-15bbfdcca615"
      },
      "source": [
        "def check():\n",
        "    num1 = int(input(\"Ennter a nuumber: \"))\n",
        "    num2 = int(input(\"Ennter a nuumber: \"))\n",
        "    num3 = int(input(\"Ennter a nuumber: \"))\n",
        "    sum= num1+num2+num3\n",
        "    if num1 == num2 or num2 == num3 or num3 == num1:\n",
        "        return 0\n",
        "    else:\n",
        "        return sum\n",
        "print(check())\n"
      ],
      "execution_count": null,
      "outputs": [
        {
          "output_type": "stream",
          "text": [
            "Ennter a nuumber: 1\n",
            "Ennter a nuumber: 5\n",
            "Ennter a nuumber: 1\n",
            "0\n"
          ],
          "name": "stdout"
        }
      ]
    },
    {
      "cell_type": "markdown",
      "metadata": {
        "id": "sr3Xy8UEXR5C"
      },
      "source": [
        "### **Exercise no 34:**\n",
        "Write a Python program to sum of two given integers. However, if the sum is between 15 to 20 it will return 20."
      ]
    },
    {
      "cell_type": "code",
      "metadata": {
        "id": "dWgbLy_VXR17",
        "colab": {
          "base_uri": "https://localhost:8080/",
          "height": 68
        },
        "outputId": "01d7e387-e445-4eca-82c5-e6674ca9f51a"
      },
      "source": [
        "def check():\n",
        "    num1 = int(input(\"Ennter a number: \"))\n",
        "    num2 = int(input(\"Ennter a number: \"))\n",
        "    sum= num1+num2\n",
        "    if sum < 20 or sum >15:\n",
        "        return 20\n",
        "    else:\n",
        "        return sum\n",
        "print(check())\n"
      ],
      "execution_count": null,
      "outputs": [
        {
          "output_type": "stream",
          "text": [
            "Ennter a number: 15\n",
            "Ennter a number: 2\n",
            "20\n"
          ],
          "name": "stdout"
        }
      ]
    },
    {
      "cell_type": "markdown",
      "metadata": {
        "id": "3QbQem1kXRyw"
      },
      "source": [
        "### **Exercise no 35:**\n",
        "Write a Python program that will return true if the two given integer values are equal or their sum or difference is 5."
      ]
    },
    {
      "cell_type": "code",
      "metadata": {
        "id": "ESRhq78nXRwJ",
        "colab": {
          "base_uri": "https://localhost:8080/",
          "height": 68
        },
        "outputId": "7417018e-680b-4aaa-c86a-d21072e1b24c"
      },
      "source": [
        "def check():\n",
        "    num1 = int(input(\"Ennter a number: \"))\n",
        "    num2 = int(input(\"Ennter a number: \"))\n",
        "    sum= num1+num2\n",
        "    diff= abs(num1-num2)\n",
        "    if num1==num2 or sum == 5 or diff == 5:\n",
        "        return True\n",
        "    else:\n",
        "        return False\n",
        "print(check())\n"
      ],
      "execution_count": null,
      "outputs": [
        {
          "output_type": "stream",
          "text": [
            "Ennter a number: 7\n",
            "Ennter a number: 2\n",
            "True\n"
          ],
          "name": "stdout"
        }
      ]
    },
    {
      "cell_type": "markdown",
      "metadata": {
        "id": "9r1op0R1XRtD"
      },
      "source": [
        "### **Exercise no 36:**\n",
        " Write a Python program to add two objects if both objects are an integer type."
      ]
    },
    {
      "cell_type": "code",
      "metadata": {
        "id": "2xND3XhEXRqd",
        "colab": {
          "base_uri": "https://localhost:8080/",
          "height": 34
        },
        "outputId": "69d49dc4-a751-416b-82c7-1e00ea52ca11"
      },
      "source": [
        "def function():\n",
        "    a= int(65)\n",
        "    b= int(5)\n",
        "    c= float(56)\n",
        "    d= str(44)\n",
        "\n",
        "    check1= a\n",
        "    check2= b\n",
        "    if isinstance(check1, int) and isinstance(check2, int):\n",
        "        return check1+check2\n",
        "    else:\n",
        "        return \"Not same class\"\n",
        "print(function()) "
      ],
      "execution_count": null,
      "outputs": [
        {
          "output_type": "stream",
          "text": [
            "70\n"
          ],
          "name": "stdout"
        }
      ]
    },
    {
      "cell_type": "markdown",
      "metadata": {
        "id": "F3eozo3dXRn1"
      },
      "source": [
        "### **Exercise no 89:**\n",
        "Write a Python program to perform an action if a condition is true. \n",
        "\n",
        "Given a variable name, if the value is 1, display the string \"First day of a Month!\" and do nothing if the value is not equal."
      ]
    },
    {
      "cell_type": "code",
      "metadata": {
        "id": "4_MQIkKiXRk7",
        "colab": {
          "base_uri": "https://localhost:8080/",
          "height": 51
        },
        "outputId": "539c3e1a-2169-4af8-941d-024f23bf3b26"
      },
      "source": [
        "def function():\n",
        "    a= int(input(\"Enter a value: \"))\n",
        "    if a==1:\n",
        "        print(\"First day of a Month!\")\n",
        "function()"
      ],
      "execution_count": null,
      "outputs": [
        {
          "output_type": "stream",
          "text": [
            "Enter a value: 1\n",
            "First day of a Month!\n"
          ],
          "name": "stdout"
        }
      ]
    },
    {
      "cell_type": "markdown",
      "metadata": {
        "id": "2pqVOKoMXRiK"
      },
      "source": [
        "### **Exercise no 109:**\n",
        "Write a Python program to check if a number is positive, negative or zero. "
      ]
    },
    {
      "cell_type": "code",
      "metadata": {
        "id": "-RS61IChXRec",
        "colab": {
          "base_uri": "https://localhost:8080/",
          "height": 51
        },
        "outputId": "0c0a0fd2-f783-43c9-d6b5-eb923b173e10"
      },
      "source": [
        "def function():\n",
        "    a= float(input(\"Enter a value: \"))\n",
        "    if  a<0:\n",
        "        print(\"Negative\")\n",
        "    elif  a==0:\n",
        "        print(\"Zero\")\n",
        "    elif  a>0:\n",
        "        print(\"Positive\")\n",
        "function()"
      ],
      "execution_count": null,
      "outputs": [
        {
          "output_type": "stream",
          "text": [
            "Enter a value: -2515151.22\n",
            "Negative\n"
          ],
          "name": "stdout"
        }
      ]
    },
    {
      "cell_type": "markdown",
      "metadata": {
        "id": "jiwfgwP4XRTA"
      },
      "source": [
        "### **Exercise no 124:**\n",
        "Write a Python program to check whether multiple variables have the same value."
      ]
    },
    {
      "cell_type": "code",
      "metadata": {
        "id": "lm3Wz3sfXRQL",
        "colab": {
          "base_uri": "https://localhost:8080/",
          "height": 34
        },
        "outputId": "4a8b0dab-c369-481f-cb5e-d7935aae022a"
      },
      "source": [
        "def check():\n",
        "    var1= 5\n",
        "    var2= 6\n",
        "    var3= 98\n",
        "    if var1 == var2 == var3:\n",
        "        return \"OKAY\"\n",
        "print(check())"
      ],
      "execution_count": null,
      "outputs": [
        {
          "output_type": "stream",
          "text": [
            "None\n"
          ],
          "name": "stdout"
        }
      ]
    },
    {
      "cell_type": "markdown",
      "metadata": {
        "id": "l8OKoChhXRNH"
      },
      "source": [
        "### **Exercise no 138:**\n",
        "Write a Python program to convert true to 1 and false to 0"
      ]
    },
    {
      "cell_type": "code",
      "metadata": {
        "id": "4zlLnotNXRKM",
        "colab": {
          "base_uri": "https://localhost:8080/",
          "height": 68
        },
        "outputId": "e459ef66-cff7-4554-9ee7-d8081b7dc521"
      },
      "source": [
        "c= input(\"Enter True or False: \")\n",
        "if c== \"true\":\n",
        "    print(c)\n",
        "    c=1\n",
        "elif c== \"false\":\n",
        "    print(c)\n",
        "    c=0\n",
        "print(c)"
      ],
      "execution_count": null,
      "outputs": [
        {
          "output_type": "stream",
          "text": [
            "Enter True or False: false\n",
            "false\n",
            "0\n"
          ],
          "name": "stdout"
        }
      ]
    },
    {
      "cell_type": "markdown",
      "metadata": {
        "id": "rtPZw-QNXRHW"
      },
      "source": [
        "### **Exercise no 147:**\n",
        "Write a Python function to check whether a number is divisible by another number. Accept two integers values form the user."
      ]
    },
    {
      "cell_type": "code",
      "metadata": {
        "id": "A4JFwiMaXREh",
        "colab": {
          "base_uri": "https://localhost:8080/",
          "height": 68
        },
        "outputId": "261c7e25-5eec-49b9-fd71-a8eb7faaa8b6"
      },
      "source": [
        "num= int(input(\"Enter number to divide: \"))\n",
        "num2= int(input(\"Enter number to divide with: \"))\n",
        "if num%num2 == 0:\n",
        "    print(\"Yes\")\n",
        "else:\n",
        "    print(\"NO\")\n"
      ],
      "execution_count": null,
      "outputs": [
        {
          "output_type": "stream",
          "text": [
            "Enter number to divide: 47\n",
            "Enter number to divide with: 2\n",
            "NO\n"
          ],
          "name": "stdout"
        }
      ]
    }
  ]
}