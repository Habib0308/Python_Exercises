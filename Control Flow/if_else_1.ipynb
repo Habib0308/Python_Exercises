{
  "nbformat": 4,
  "nbformat_minor": 0,
  "metadata": {
    "colab": {
      "name": "if else 1",
      "provenance": [],
      "collapsed_sections": [],
      "include_colab_link": true
    },
    "kernelspec": {
      "name": "python3",
      "display_name": "Python 3"
    }
  },
  "cells": [
    {
      "cell_type": "markdown",
      "metadata": {
        "id": "view-in-github",
        "colab_type": "text"
      },
      "source": [
        "<a href=\"https://colab.research.google.com/github/habibanalytics/Python_Exercises/blob/master/Control%20Flow/if_else_1.ipynb\" target=\"_parent\"><img src=\"https://colab.research.google.com/assets/colab-badge.svg\" alt=\"Open In Colab\"/></a>"
      ]
    },
    {
      "cell_type": "markdown",
      "metadata": {
        "id": "dXq22yWVNu2e"
      },
      "source": [
        "# **These programs are selected from link**\r\n",
        "[C Programming Exercises, Practice, Solution : Conditional Statement](https://www.w3resource.com/c-programming-exercises/conditional-statement/index.php)"
      ]
    },
    {
      "cell_type": "markdown",
      "metadata": {
        "id": "ZWzUH2gtOCHF"
      },
      "source": [
        "## **1. Write a python program to accept two integers and check whether they are equal or not.**\r\n",
        "```\r\n",
        "Test Data : 15 15\r\n",
        "Expected Output :\r\n",
        "Number1 and Number2 are equal\r\n",
        "```"
      ]
    },
    {
      "cell_type": "code",
      "metadata": {
        "id": "28v4-1Z9NvLd"
      },
      "source": [
        "a= 15\r\n",
        "b= 15\r\n",
        "if a==b:\r\n",
        "    print(\"equal\")\r\n",
        "else:\r\n",
        "    print(\"Not equal\")"
      ],
      "execution_count": null,
      "outputs": []
    },
    {
      "cell_type": "markdown",
      "metadata": {
        "id": "o_b1m6CgSRij"
      },
      "source": [
        "## **2. Write a python program to check whether a given number is even or odd.**\r\n",
        "```\r\n",
        "Test Data : 15\r\n",
        "Expected Output :\r\n",
        "15 is an odd integer\r\n",
        "```"
      ]
    },
    {
      "cell_type": "code",
      "metadata": {
        "id": "sFYnh-WaSRjF"
      },
      "source": [
        "a= 15\r\n",
        "if a%2 == 0:\r\n",
        "    print(\"Even\")\r\n",
        "else:\r\n",
        "    print(\"Odd\")"
      ],
      "execution_count": null,
      "outputs": []
    },
    {
      "cell_type": "markdown",
      "metadata": {
        "id": "UEgJYiznSSpE"
      },
      "source": [
        "## **3. Write a python program to check whether a given number is positive or negative.**\r\n",
        "```\r\n",
        "Test Data : 15\r\n",
        "Expected Output :\r\n",
        "15 is a positive number\r\n",
        "```"
      ]
    },
    {
      "cell_type": "code",
      "metadata": {
        "id": "_KNXIC1aSSpG"
      },
      "source": [
        "a= 15\r\n",
        "if a>=0:\r\n",
        "    print(\"Positive\")\r\n",
        "else:\r\n",
        "    print(\"Negative\")"
      ],
      "execution_count": null,
      "outputs": []
    },
    {
      "cell_type": "markdown",
      "metadata": {
        "id": "tTCWYFWYTADA"
      },
      "source": [
        "## **4. Write a python program to find whether a given year is a leap year or not.**\r\n",
        "**Check this image for help:** \r\n",
        "[image](https://i.pinimg.com/originals/92/f4/8d/92f48db498a40ccdce54dbbcae2796ff.jpg)\r\n",
        "```\r\n",
        "Test Data : 2016\r\n",
        "Expected Output :\r\n",
        "2016 is a leap year.\r\n",
        "```"
      ]
    },
    {
      "cell_type": "code",
      "metadata": {
        "id": "t6DlnNdKTADg"
      },
      "source": [
        "checkList= [1700, 1800, 1900, 2100, 2200, 2300, 2500, 2600, 1600, 2000, 2400, 2016]\r\n",
        "for year in checkList:\r\n",
        "    if year%400 == 0:\r\n",
        "        print(\"Leap year\", year)\r\n",
        "    elif year%100 == 0:\r\n",
        "        print(\"Normal year\", year)\r\n",
        "    elif year%4 == 0:\r\n",
        "        print(\"Leap year\", year)\r\n",
        "    else:\r\n",
        "        print(\"Normal year\", year)\r\n"
      ],
      "execution_count": null,
      "outputs": []
    },
    {
      "cell_type": "markdown",
      "metadata": {
        "id": "ys5SqVH3TASY"
      },
      "source": [
        "## **5. Write a python program to read the age of a candidate and determine whether it is eligible for casting his/her own vote.**\r\n",
        "```\r\n",
        "Test Data : 21\r\n",
        "Expected Output :\r\n",
        "Congratulation! You are eligible for casting your vote.\r\n",
        "```"
      ]
    },
    {
      "cell_type": "code",
      "metadata": {
        "id": "nlExyBBzTASZ"
      },
      "source": [
        "age = int(input(\"Input age:\"))\r\n",
        "if age>=21:\r\n",
        "    print(\"Eligible\")\r\n",
        "else:\r\n",
        "    print(\"Not Eligible\")"
      ],
      "execution_count": null,
      "outputs": []
    },
    {
      "cell_type": "markdown",
      "metadata": {
        "id": "xNnSXnygTAWn"
      },
      "source": [
        "## **6. Write a python program to read the value of an integer m and display the value of n is 1 when m is larger than 0, 0 when m is 0 and -1 when m is less than 0.**\r\n",
        "```\r\n",
        "Test Data : -5\r\n",
        "Expected Output :\r\n",
        "The value of n = -1\r\n",
        "```"
      ]
    },
    {
      "cell_type": "code",
      "metadata": {
        "id": "SEYkp184TAWn"
      },
      "source": [
        "m = int(input(\"Input :\"))\r\n",
        "if m>0:\r\n",
        "    print(\"The value of n = 1\")\r\n",
        "elif m==0:\r\n",
        "    print(\"The value of n = 0\")\r\n",
        "elif m<0:\r\n",
        "    print(\"The value of n = -1\")"
      ],
      "execution_count": null,
      "outputs": []
    },
    {
      "cell_type": "markdown",
      "metadata": {
        "id": "6msGiTKKTAZ2"
      },
      "source": [
        "## **7. Write a python program to accept the height of a person in centimeter and categorize the person according to their height.**\r\n",
        "```\r\n",
        "\r\n",
        "```"
      ]
    },
    {
      "cell_type": "code",
      "metadata": {
        "id": "ghB7tfvKTAZ3"
      },
      "source": [
        "height = int(input(\"Input :\"))\r\n",
        "if height <=135:\r\n",
        "    print(\"You Dwarf\")\r\n",
        "elif height > 135 and height <180:\r\n",
        "    print(\"Better\")\r\n",
        "else:\r\n",
        "    print(\"You Giant\")"
      ],
      "execution_count": null,
      "outputs": []
    },
    {
      "cell_type": "markdown",
      "metadata": {
        "id": "gQcLkm_CTAc0"
      },
      "source": [
        "## **8. Write a python program to find the largest of three numbers.**\r\n",
        "```\r\n",
        "Test Data : 12 25 52\r\n",
        "Expected Output :\r\n",
        "1st Number = 12,        2nd Number = 25,        3rd Number = 52\r\n",
        "The 3rd Number is the greatest among three\r\n",
        "```"
      ]
    },
    {
      "cell_type": "code",
      "metadata": {
        "id": "KwcVJ2gMTAc0"
      },
      "source": [
        "var1 = int(input(\"Input 1 :\"))\r\n",
        "var2 = int(input(\"Input 2 :\"))\r\n",
        "var3 = int(input(\"Input 3 :\"))\r\n",
        "\r\n",
        "print(max([var1,var2,var3]))\r\n",
        "# I am not wasting time to make output beautiful\r\n"
      ],
      "execution_count": null,
      "outputs": []
    },
    {
      "cell_type": "markdown",
      "metadata": {
        "id": "eQxg7HxlTAfo"
      },
      "source": [
        "## **9. Write a python program to accept a coordinate point in a XY coordinate system and determine in which quadrant the coordinate point lies.**\r\n",
        "```\r\n",
        "Test Data : 7 9\r\n",
        "Expected Output :\r\n",
        "The coordinate point (7,9) lies in the First quadrant.\r\n",
        "```\r\n",
        "2|1\r\n",
        "\r\n",
        "3|4"
      ]
    },
    {
      "cell_type": "code",
      "metadata": {
        "id": "Zn5nkhz3TAfo"
      },
      "source": [
        "x = int(input(\"Input X :\"))\r\n",
        "y = int(input(\"Input Y :\"))\r\n",
        "\r\n",
        "if x>=0 and y>=0:\r\n",
        "    print(\"First\")\r\n",
        "elif x<0 and y>=0:\r\n",
        "    print(\"2nd\")\r\n",
        "elif x<0 and y<0:\r\n",
        "    print(\"3rd\")\r\n",
        "elif x>=0 and y<0:\r\n",
        "    print(\"4th\")"
      ],
      "execution_count": null,
      "outputs": []
    },
    {
      "cell_type": "markdown",
      "metadata": {
        "id": "nQfBmSIFTAiI"
      },
      "source": [
        "## **10. Write a python program to find the eligibility of admission for a professional course based on the following criteria:**\r\n",
        "\r\n",
        "```\r\n",
        "Eligibility Criteria :\r\n",
        "Marks in Maths >=65 \r\n",
        "and Marks in Phy >=55 \r\n",
        "and Marks in Chem>=50 \r\n",
        "and Total in all three subject >=190 \r\n",
        "or Total in Maths and Physics >=140 \r\n",
        "......\r\n",
        "Input the marks obtained in Physics :65 \r\n",
        "Input the marks obtained in Chemistry :51 \r\n",
        "Input the marks obtained in Mathematics :72 \r\n",
        "Total marks of Maths, Physics and Chemistry : 188 \r\n",
        "Total marks of Maths and Physics : 137 The candidate is not eligible.\r\n",
        "Expected Output :\r\n",
        "The candidate is not eligible for admission.**\r\n",
        "\r\n",
        "```"
      ]
    },
    {
      "cell_type": "code",
      "metadata": {
        "id": "ZYoOJLOjTAiI"
      },
      "source": [
        "math = int(input(\"Input :\"))\r\n",
        "phy = int(input(\"Input :\"))\r\n",
        "chem = int(input(\"Input :\"))\r\n",
        "total= math+phy+chem\r\n",
        "\r\n",
        "if math >=65 and phy >=55 and chem>=50 and total >=190 and math+phy >= 140:\r\n",
        "    print(\"Eligible\")\r\n",
        "else:\r\n",
        "    print(\"Not Eligible\")"
      ],
      "execution_count": null,
      "outputs": []
    },
    {
      "cell_type": "markdown",
      "metadata": {
        "id": "Ms9ny_oRTAlN"
      },
      "source": [
        "## **16. Write a python program to check whether a character is an alphabet, digit or special character.**\r\n",
        "```\r\n",
        "Test Data :\r\n",
        "@\r\n",
        "Expected Output :\r\n",
        "This is a special character.**\r\n",
        "\r\n",
        "```"
      ]
    },
    {
      "cell_type": "code",
      "metadata": {
        "id": "cm3sZVb9TAlN"
      },
      "source": [
        "var = input(\"Input character: \")\r\n",
        "if var.isalpha():\r\n",
        "    print(\"Alphabet\")\r\n",
        "elif var.isdigit():\r\n",
        "    print(\"Digit\")\r\n",
        "elif var in r\"#$%&'()*+,-./:;<=>?@[\\]^_`{|}~\":\r\n",
        "    print(\"Special\")"
      ],
      "execution_count": null,
      "outputs": []
    },
    {
      "cell_type": "markdown",
      "metadata": {
        "id": "2JZvfrHfTAn8"
      },
      "source": [
        "## **17. Write a python program to check whether an alphabet is a vowel or consonant.**\r\n",
        "```\r\n",
        "Test Data :\r\n",
        "k\r\n",
        "Expected Output :\r\n",
        "The alphabet is a consonant.\r\n",
        "```"
      ]
    },
    {
      "cell_type": "code",
      "metadata": {
        "id": "2V0eGaOWTAn8"
      },
      "source": [
        "var = input(\"Input :\")\r\n",
        "if var in \"aeiouAEIOU\":\r\n",
        "    print(\"Vowel\")\r\n",
        "else:\r\n",
        "    print(\"Consonant\")"
      ],
      "execution_count": null,
      "outputs": []
    },
    {
      "cell_type": "markdown",
      "metadata": {
        "id": "K_FoTPpFTA2q"
      },
      "source": [
        "## **19. Write a program in python to calculate and print the Electricity bill of a given customer. The customer id., name and unit consumed by the user should be taken from the keyboard and display the total amount to pay to the customer. The charge are as follow :**\r\n",
        "```\r\n",
        "Unit\tCharge/unit\r\n",
        "upto 199\t@1.20\r\n",
        "200 and above but less than 400\t@1.50\r\n",
        "400 and above but less than 600\t@1.80\r\n",
        "600 and above\t@2.00\r\n",
        "If bill exceeds Rs. 400 \r\n",
        "then a surcharge of 15% will be charged \r\n",
        "and the minimum bill should be of Rs. 100/-\r\n",
        "\r\n",
        "Test Data :\r\n",
        "1001\r\n",
        "James\r\n",
        "800\r\n",
        "Expected Output :\r\n",
        "Customer IDNO :1001\r\n",
        "Customer Name :James\r\n",
        "unit Consumed :800\r\n",
        "Amount Charges @Rs. 2.00 per unit : 1600.00\r\n",
        "Surchage Amount : 240.00\r\n",
        "Net Amount Paid By the Customer : 1840.00**\r\n",
        "```"
      ]
    },
    {
      "cell_type": "code",
      "metadata": {
        "id": "KZOvrD1bTA2r"
      },
      "source": [
        "units = int(input(\"Input :\"))\r\n",
        "if units<=199:\r\n",
        "    print(\"Bill: \", units*1.20)\r\n",
        "elif units >= 200 and units <400:\r\n",
        "    print(\"Bill: \", 1.50*units)\r\n",
        "elif units >=400 and units< 600:\r\n",
        "    bill= units*1.80\r\n",
        "    surcharge= (bill*0.15)\r\n",
        "    print(\"Bill: \", bill+surcharge)\r\n",
        "    \r\n",
        "else:\r\n",
        "    bill= units*2.0\r\n",
        "    surcharge= (bill*0.15)\r\n",
        "    print(\"Bill: \", bill+surcharge)"
      ],
      "execution_count": null,
      "outputs": []
    }
  ]
}