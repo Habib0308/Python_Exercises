{
  "nbformat": 4,
  "nbformat_minor": 0,
  "metadata": {
    "colab": {
      "name": "Variables and I/O.ipynb",
      "provenance": [],
      "collapsed_sections": [],
      "authorship_tag": "ABX9TyPnWnCJZEl2mGyciMwwKyua",
      "include_colab_link": true
    },
    "kernelspec": {
      "name": "python3",
      "display_name": "Python 3"
    }
  },
  "cells": [
    {
      "cell_type": "markdown",
      "metadata": {
        "id": "view-in-github",
        "colab_type": "text"
      },
      "source": [
        "<a href=\"https://colab.research.google.com/github/habibanalytics/Python_Exercises/blob/master/Variables_and_I_O.ipynb\" target=\"_parent\"><img src=\"https://colab.research.google.com/assets/colab-badge.svg\" alt=\"Open In Colab\"/></a>"
      ]
    },
    {
      "cell_type": "markdown",
      "metadata": {
        "id": "9C_LTm9QUpbm",
        "colab_type": "text"
      },
      "source": [
        "# These all Exercises are from this webpage: \n",
        "[W3resource/python-exercises](https://www.w3resource.com/python-exercises/python-basic-exercises.php)"
      ]
    },
    {
      "cell_type": "markdown",
      "metadata": {
        "id": "qzoCqZjU5LKm",
        "colab_type": "text"
      },
      "source": [
        "# **Exercise no 1:**\n",
        "Write a Python program to print the following string in a specific format.\n",
        "Sample String : \n",
        "\n",
        "\"Twinkle, twinkle, little star, How I wonder what you are! Up above the world so high, Like a diamond in the sky. Twinkle, twinkle, little star, How I wonder what you are\" Output :\n",
        "```\n",
        "Twinkle, twinkle, little star,\n",
        "\tHow I wonder what you are! \n",
        "\t\tUp above the world so high,   \t\t\n",
        "\t\tLike a diamond in the sky. \n",
        "Twinkle, twinkle, little star, \n",
        "\tHow I wonder what you are\n",
        "```"
      ]
    },
    {
      "cell_type": "code",
      "metadata": {
        "id": "Lf7A_v6Y5eAy",
        "colab_type": "code",
        "colab": {
          "base_uri": "https://localhost:8080/",
          "height": 118
        },
        "outputId": "e5ae732d-4774-4b8a-a101-d1bcf5e7dc44"
      },
      "source": [
        "print(\"Twinkle, twinkle, little star,\\n\\tHow I wonder what you are!\\n\\t\\tUp above the world so high,\\n\\t\\tLike a diamond in the sky.\\nTwinkle, twinkle, little star,\\n\\tHow I wonder what you are\")"
      ],
      "execution_count": 1,
      "outputs": [
        {
          "output_type": "stream",
          "text": [
            "Twinkle, twinkle, little star,\n",
            "\tHow I wonder what you are!\n",
            "\t\tUp above the world so high,\n",
            "\t\tLike a diamond in the sky.\n",
            "Twinkle, twinkle, little star,\n",
            "\tHow I wonder what you are\n"
          ],
          "name": "stdout"
        }
      ]
    },
    {
      "cell_type": "markdown",
      "metadata": {
        "id": "ByWvJ_NL5eS5",
        "colab_type": "text"
      },
      "source": [
        "# **Exercise no 4**\n",
        "Write a Python program which accepts the radius of a circle from the user and compute the area."
      ]
    },
    {
      "cell_type": "code",
      "metadata": {
        "id": "0Q78CUpS5ecC",
        "colab_type": "code",
        "colab": {
          "base_uri": "https://localhost:8080/",
          "height": 50
        },
        "outputId": "6fb2f537-8176-4f96-e932-ab7dd35b5020"
      },
      "source": [
        "radious= float(input(\"Enter Radious: \"))\n",
        "area= 3.14 * (radious**2)\n",
        "print(\"area: \",area)\n",
        "\n"
      ],
      "execution_count": 5,
      "outputs": [
        {
          "output_type": "stream",
          "text": [
            "Enter Radious: 7\n",
            "area:  153.86\n"
          ],
          "name": "stdout"
        }
      ]
    },
    {
      "cell_type": "markdown",
      "metadata": {
        "id": "IC1c6wJ48K58",
        "colab_type": "text"
      },
      "source": [
        "# **Exercise no 10**\n",
        "Write a Python program that accepts an integer (n) and computes the value of n+nn+nnn.\n",
        "\n",
        "Sample value of n is 5\n",
        "\n",
        "Expected Result : 615"
      ]
    },
    {
      "cell_type": "code",
      "metadata": {
        "id": "a_k4swOo8LBT",
        "colab_type": "code",
        "colab": {
          "base_uri": "https://localhost:8080/",
          "height": 50
        },
        "outputId": "10abbac9-f8e2-493a-89df-9af5b0db141a"
      },
      "source": [
        "n= input(\"Enter a number: \")\n",
        "ans= int(n)+ int(n+n) + int(n+n+n)\n",
        "print(ans)"
      ],
      "execution_count": 7,
      "outputs": [
        {
          "output_type": "stream",
          "text": [
            "Enter a number: 5\n",
            "615\n"
          ],
          "name": "stdout"
        }
      ]
    },
    {
      "cell_type": "markdown",
      "metadata": {
        "id": "vBCcG5XX5ekD",
        "colab_type": "text"
      },
      "source": [
        "# **Exercise no 15**\n",
        "Write a Python program to get the volume of a sphere with radius 6."
      ]
    },
    {
      "cell_type": "code",
      "metadata": {
        "id": "B2wVO_dt5eqa",
        "colab_type": "code",
        "colab": {
          "base_uri": "https://localhost:8080/",
          "height": 50
        },
        "outputId": "7301a8e9-d419-4b71-9c3c-d020867e56b1"
      },
      "source": [
        "radious= float(input(\"Enter Radious: \"))\n",
        "volume= (4/3)*3.14* radious**3\n",
        "print(volume)"
      ],
      "execution_count": 9,
      "outputs": [
        {
          "output_type": "stream",
          "text": [
            "Enter Radious: 5\n",
            "523.3333333333334\n"
          ],
          "name": "stdout"
        }
      ]
    },
    {
      "cell_type": "markdown",
      "metadata": {
        "id": "ULDUlZl65ewb",
        "colab_type": "text"
      },
      "source": [
        "# **Exercise no 30**\n",
        "Write a Python program that will accept the base and height of a triangle and compute the area."
      ]
    },
    {
      "cell_type": "code",
      "metadata": {
        "id": "NXcylwzk5e2G",
        "colab_type": "code",
        "colab": {
          "base_uri": "https://localhost:8080/",
          "height": 67
        },
        "outputId": "cbf3de50-218a-49dc-b5b4-a3a89c32b7b1"
      },
      "source": [
        "base= float(input(\"Enter Base of Triangle: \"))\n",
        "height= float(input(\"Enter height of Triangle: \"))\n",
        "area= (height*base)/2\n",
        "print(area)\n",
        "\n"
      ],
      "execution_count": 10,
      "outputs": [
        {
          "output_type": "stream",
          "text": [
            "Enter Base of Triangle: 2\n",
            "Enter height of Triangle: 2\n",
            "2.0\n"
          ],
          "name": "stdout"
        }
      ]
    },
    {
      "cell_type": "markdown",
      "metadata": {
        "id": "vKORgOIz5e7I",
        "colab_type": "text"
      },
      "source": [
        "# **Exercise no 38**\n",
        "Write a Python program to solve (x + y) * (x + y). Go to the editor\n",
        "\n",
        "Test Data : x = 4, y = 3\n",
        "\n",
        "Expected Output : (4 + 3) ^ 2) = 49"
      ]
    },
    {
      "cell_type": "code",
      "metadata": {
        "id": "z5_qsVrP5fAz",
        "colab_type": "code",
        "colab": {
          "base_uri": "https://localhost:8080/",
          "height": 34
        },
        "outputId": "a6cea45c-7b0b-44e8-a41b-8517e4c33981"
      },
      "source": [
        "x = 4\n",
        "y = 3\n",
        "print( (x + y) * (x + y) )"
      ],
      "execution_count": 12,
      "outputs": [
        {
          "output_type": "stream",
          "text": [
            "49\n"
          ],
          "name": "stdout"
        }
      ]
    },
    {
      "cell_type": "markdown",
      "metadata": {
        "id": "GFsaGIZ_5fGF",
        "colab_type": "text"
      },
      "source": [
        "# **Exercise no 39**\n",
        "Write a Python program to compute the future value of a specified principal amount, rate of interest, and a number of years.\n",
        "\n",
        "Test Data : amt = 10000, int = 3.5, years = 7\n",
        "\n",
        "Expected Output : 12722.79\n",
        "\n",
        "I didn't have a single clue about them so i checked the solution"
      ]
    },
    {
      "cell_type": "code",
      "metadata": {
        "id": "uv6Lr7tR5fLk",
        "colab_type": "code",
        "colab": {
          "base_uri": "https://localhost:8080/",
          "height": 34
        },
        "outputId": "73c6bdb7-8b74-4ae9-df81-0053d1413639"
      },
      "source": [
        "amount = 10000\n",
        "interest = 3.5\n",
        "years = 7\n",
        "\n",
        "ans  = amount * ( ( 1 + (0.05*interest)) ** years)\n",
        "print(ans)"
      ],
      "execution_count": 13,
      "outputs": [
        {
          "output_type": "stream",
          "text": [
            "12722.792627665729\n"
          ],
          "name": "stdout"
        }
      ]
    },
    {
      "cell_type": "markdown",
      "metadata": {
        "id": "HSE9hhLk5fQO",
        "colab_type": "text"
      },
      "source": [
        "# **Exercise no 40**\n",
        "Write a Python program to compute the distance between the points (x1, y1) and (x2, y2).\n",
        "![img](https://passyworldofmathematics.com/Images/pwmImagesSeven/DistanceBetweenPointsEight550x389JPG.jpg)\n"
      ]
    },
    {
      "cell_type": "code",
      "metadata": {
        "id": "Ki_pWLF-5lSo",
        "colab_type": "code",
        "colab": {
          "base_uri": "https://localhost:8080/",
          "height": 101
        },
        "outputId": "13a07884-f251-4089-cf36-fa90e133e235"
      },
      "source": [
        "x1= int(input(\"Enter x1: \"))\n",
        "x2= int(input(\"Enter x2: \"))\n",
        "y1= int(input(\"Enter y1: \"))\n",
        "y2= int(input(\"Enter y1: \"))\n",
        "\n",
        "distance= ((x2-x1)**2 + (y2-y1)**2  )**(1/2)\n",
        "print(distance)"
      ],
      "execution_count": null,
      "outputs": [
        {
          "output_type": "stream",
          "text": [
            "Enter x1: -2\n",
            "Enter x2: 2\n",
            "Enter y1: -2\n",
            "Enter y1: 6\n",
            "8.94427190999916\n"
          ],
          "name": "stdout"
        }
      ]
    },
    {
      "cell_type": "markdown",
      "metadata": {
        "id": "SJgTH9wPLFkM",
        "colab_type": "text"
      },
      "source": [
        "# **Exercise no 59**\n",
        "Write a Python program to convert height (in feet and inches) to centimeters."
      ]
    },
    {
      "cell_type": "code",
      "metadata": {
        "id": "EL9FfcDdLF5Q",
        "colab_type": "code",
        "colab": {
          "base_uri": "https://localhost:8080/",
          "height": 84
        },
        "outputId": "8ca90dea-cb6d-453d-995f-3868221b2ef1"
      },
      "source": [
        "height= print(\"Input height.\")\n",
        "foot = int(input(\"In Foot: \"))\n",
        "inch = int(input(\"In Inches: \"))\n",
        "\n",
        "inch += foot * 12\n",
        "centimeter = inch * 2.54\n",
        "\n",
        "print(\"Your height is :\", centimeter)"
      ],
      "execution_count": 28,
      "outputs": [
        {
          "output_type": "stream",
          "text": [
            "Input height.\n",
            "In Foot: 5\n",
            "In Inches: 11\n",
            "Your height is : 180.34\n"
          ],
          "name": "stdout"
        }
      ]
    },
    {
      "cell_type": "markdown",
      "metadata": {
        "id": "mtSZnurPLGF3",
        "colab_type": "text"
      },
      "source": [
        "# **Exercise no 60**\n",
        "Write a Python program to calculate the hypotenuse of a right angled triangle.\n",
        "![](https://www.w3resource.com/w3r_images/python-basic-image-exercise-60.png)"
      ]
    },
    {
      "cell_type": "code",
      "metadata": {
        "id": "3VbPZMzYLGPk",
        "colab_type": "code",
        "colab": {
          "base_uri": "https://localhost:8080/",
          "height": 67
        },
        "outputId": "736a6daf-4985-4434-debc-309f2db2ea23"
      },
      "source": [
        "adjacent_side= float(input(\"Enter adjacent_side:\"))\n",
        "opposite_side= float(input(\"Enter opposite_side:\"))\n",
        "hypoteneous= ((adjacent_side)**2 + (opposite_side)**2)**(1/2)\n",
        "print(hypoteneous)"
      ],
      "execution_count": 31,
      "outputs": [
        {
          "output_type": "stream",
          "text": [
            "Enter adjacent_side:3\n",
            "Enter opposite_side:4\n",
            "5.0\n"
          ],
          "name": "stdout"
        }
      ]
    },
    {
      "cell_type": "markdown",
      "metadata": {
        "id": "n0RiaodKLGZG",
        "colab_type": "text"
      },
      "source": [
        "# **Exercise no 61**\n",
        "Write a Python program to convert the distance (in feet) to inches, yards, and miles"
      ]
    },
    {
      "cell_type": "code",
      "metadata": {
        "id": "vLwP9oCPLGid",
        "colab_type": "code",
        "colab": {
          "base_uri": "https://localhost:8080/",
          "height": 84
        },
        "outputId": "aad179da-c71f-4f0d-dca1-399cbe77bb3b"
      },
      "source": [
        "feet = float(input(\"Input distance in feet: \"))\n",
        "inches = feet * 12\n",
        "yards = feet / 3.0\n",
        "miles = feet / 5280.0\n",
        "print(\"Inches: \", inches)\n",
        "print(\"Yards: \", yards)\n",
        "print(\"Miles:\", miles)\n"
      ],
      "execution_count": 32,
      "outputs": [
        {
          "output_type": "stream",
          "text": [
            "Input distance in feet: 200\n",
            "Inches:  2400.0\n",
            "Yards:  66.66666666666667\n",
            "Miles: 0.03787878787878788\n"
          ],
          "name": "stdout"
        }
      ]
    }
  ]
}