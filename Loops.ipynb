{
  "nbformat": 4,
  "nbformat_minor": 0,
  "metadata": {
    "colab": {
      "name": "Template",
      "provenance": [],
      "collapsed_sections": [],
      "authorship_tag": "ABX9TyM8Q1uLSQDT6usWfiBoh4mg",
      "include_colab_link": true
    },
    "kernelspec": {
      "name": "python3",
      "display_name": "Python 3"
    }
  },
  "cells": [
    {
      "cell_type": "markdown",
      "metadata": {
        "id": "view-in-github",
        "colab_type": "text"
      },
      "source": [
        "<a href=\"https://colab.research.google.com/github/habibanalytics/Python_Exercises/blob/master/Loops.ipynb\" target=\"_parent\"><img src=\"https://colab.research.google.com/assets/colab-badge.svg\" alt=\"Open In Colab\"/></a>"
      ]
    },
    {
      "cell_type": "markdown",
      "metadata": {
        "id": "fad__KXyaXvB",
        "colab_type": "text"
      },
      "source": [
        "28, 29, 58, 68, 81, 82, 83, 84, 110, 149"
      ]
    },
    {
      "cell_type": "markdown",
      "metadata": {
        "id": "ZfavRlLwXSsv",
        "colab_type": "text"
      },
      "source": [
        "### **Exercise no 28:**\n",
        "Write a Python program to print all even numbers from a given numbers list in the same order and stop the printing if any numbers that come after 237 in the sequence. \n",
        "```\n",
        "Sample numbers list :\n",
        "\n",
        "numbers = [    \n",
        "    386, 462, 47, 418, 907, 344, 236, 375, 823, 566, 597, 978, 328, 615, 953, 345, \n",
        "    399, 162, 758, 219, 918, 237, 412, 566, 826, 248, 866, 950, 626, 949, 687, 217, \n",
        "    815, 67, 104, 58, 512, 24, 892, 894, 767, 553, 81, 379, 843, 831, 445, 742, 717, \n",
        "    958,743, 527\n",
        "    ]\n",
        "```"
      ]
    },
    {
      "cell_type": "code",
      "metadata": {
        "id": "SRqfV6eLXSpz",
        "colab_type": "code",
        "colab": {
          "base_uri": "https://localhost:8080/",
          "height": 35
        },
        "outputId": "54971c35-6987-4ce4-ff94-8f295d028e6a"
      },
      "source": [
        "def check():\n",
        "    numbers = [    \n",
        "    386, 462, 47, 418, 907, 344, 236, 375, 823, 566, 597, 978, 328, 615, 953, 345, \n",
        "    399, 162, 758, 219, 918, 237, 412, 566, 826, 248, 866, 950, 626, 949, 687, 217, \n",
        "    815, 67, 104, 58, 512, 24, 892, 894, 767, 553, 81, 379, 843, 831, 445, 742, 717, \n",
        "    958,743, 527\n",
        "    ]\n",
        "    \n",
        "    for num in numbers:    \n",
        "        if num % 2 == 0 and num != 237:\n",
        "            print(num, end=\" \") \n",
        "        elif num == 237:\n",
        "            print(num, end=\" \") \n",
        "            break\n",
        "check()"
      ],
      "execution_count": 43,
      "outputs": [
        {
          "output_type": "stream",
          "text": [
            "386 462 418 344 236 566 978 328 162 758 918 237 "
          ],
          "name": "stdout"
        }
      ]
    },
    {
      "cell_type": "markdown",
      "metadata": {
        "colab_type": "text",
        "id": "jTx1YK-ib9dD"
      },
      "source": [
        "### **Exercise no 58:**\n",
        "Write a python program to find the sum of the first n positive integers. "
      ]
    },
    {
      "cell_type": "code",
      "metadata": {
        "colab_type": "code",
        "id": "IrUCoEhTb9dG",
        "colab": {
          "base_uri": "https://localhost:8080/",
          "height": 35
        },
        "outputId": "9eacb289-5535-4dd5-8a51-bf5887134254"
      },
      "source": [
        "def check():\n",
        "    sum=0\n",
        "    for n in range(6):    \n",
        "        sum+=n\n",
        "    return sum \n",
        "check()"
      ],
      "execution_count": 44,
      "outputs": [
        {
          "output_type": "execute_result",
          "data": {
            "text/plain": [
              "15"
            ]
          },
          "metadata": {
            "tags": []
          },
          "execution_count": 44
        }
      ]
    },
    {
      "cell_type": "markdown",
      "metadata": {
        "colab_type": "text",
        "id": "Ho2SRLTGY5eJ"
      },
      "source": [
        "### **Exercise no 68:**\n",
        "Write a Python program to calculate the sum of the digits in an integer.\n"
      ]
    },
    {
      "cell_type": "code",
      "metadata": {
        "colab_type": "code",
        "id": "GY1koSdjY5Rm",
        "colab": {
          "base_uri": "https://localhost:8080/",
          "height": 35
        },
        "outputId": "d7a0ca07-9822-4e38-b261-75a3257af13b"
      },
      "source": [
        "def check():\n",
        "    num= 2124654654154\n",
        "    sum=0\n",
        "    while num > 0:\n",
        "        num=num//10\n",
        "        sum+=1\n",
        "    return sum\n",
        "check()"
      ],
      "execution_count": 45,
      "outputs": [
        {
          "output_type": "execute_result",
          "data": {
            "text/plain": [
              "13"
            ]
          },
          "metadata": {
            "tags": []
          },
          "execution_count": 45
        }
      ]
    },
    {
      "cell_type": "markdown",
      "metadata": {
        "colab_type": "text",
        "id": "FQ095AFLY8lP"
      },
      "source": [
        "### **Exercise no 81:**\n",
        "Write a Python program to concatenate N strings.\n"
      ]
    },
    {
      "cell_type": "code",
      "metadata": {
        "colab_type": "code",
        "id": "XN0RNDdUY8lQ",
        "colab": {
          "base_uri": "https://localhost:8080/",
          "height": 35
        },
        "outputId": "821240d6-3bc2-420b-af1d-5b6f41ac8fe0"
      },
      "source": [
        "def check():\n",
        "    l= [\"dsda\", \"dsda\", \"dsda\", \"dsda\", \"dsda\", \"dsda\", \"dsda\"]\n",
        "    s= \"\"\n",
        "    for string in l:    \n",
        "        s+=string\n",
        "    return s\n",
        "check()"
      ],
      "execution_count": 48,
      "outputs": [
        {
          "output_type": "execute_result",
          "data": {
            "application/vnd.google.colaboratory.intrinsic+json": {
              "type": "string"
            },
            "text/plain": [
              "'dsdadsdadsdadsdadsdadsdadsda'"
            ]
          },
          "metadata": {
            "tags": []
          },
          "execution_count": 48
        }
      ]
    },
    {
      "cell_type": "markdown",
      "metadata": {
        "colab_type": "text",
        "id": "H1sDL1V6Y9IA"
      },
      "source": [
        "### **Exercise no 82:**\n",
        "Write a Python program to calculate the sum over a container."
      ]
    },
    {
      "cell_type": "code",
      "metadata": {
        "colab_type": "code",
        "id": "Z4Ze1YTmY9IB",
        "colab": {
          "base_uri": "https://localhost:8080/",
          "height": 35
        },
        "outputId": "50049b88-6799-4c2b-c9cc-3cc852bd4bc4"
      },
      "source": [
        "def check():\n",
        "    l= [1,2,3,4,5,6,7,8,9]\n",
        "    sum=0\n",
        "    for a in l:    \n",
        "        sum+=a\n",
        "    return sum\n",
        "check()"
      ],
      "execution_count": 49,
      "outputs": [
        {
          "output_type": "execute_result",
          "data": {
            "text/plain": [
              "45"
            ]
          },
          "metadata": {
            "tags": []
          },
          "execution_count": 49
        }
      ]
    },
    {
      "cell_type": "markdown",
      "metadata": {
        "colab_type": "text",
        "id": "vLs2dddgY9jL"
      },
      "source": [
        "### **Exercise no 83:**\n",
        "Write a Python program to test whether all numbers of a list is greater than a certain number."
      ]
    },
    {
      "cell_type": "code",
      "metadata": {
        "colab_type": "code",
        "id": "9veoytojY9jM",
        "colab": {
          "base_uri": "https://localhost:8080/",
          "height": 35
        },
        "outputId": "fa699fc6-6d18-4d50-f8f9-3bd4cd9b47bc"
      },
      "source": [
        "def check():\n",
        "    l= [1,2,3,4,5,6,7,8,9]\n",
        "    num= 0\n",
        "    for a in l:    \n",
        "        if a < num:\n",
        "            print(\"No they are not\")\n",
        "            break \n",
        "    print(\"Yes they are\")            \n",
        "check()"
      ],
      "execution_count": 55,
      "outputs": [
        {
          "output_type": "stream",
          "text": [
            "Yes they are\n"
          ],
          "name": "stdout"
        }
      ]
    },
    {
      "cell_type": "markdown",
      "metadata": {
        "colab_type": "text",
        "id": "Z1HiNqUsY-T4"
      },
      "source": [
        "### **Exercise no 84:**\n",
        "Write a Python program to count the number occurrence of a specific character in a string"
      ]
    },
    {
      "cell_type": "code",
      "metadata": {
        "colab_type": "code",
        "id": "jRVVfkREY-T5",
        "colab": {
          "base_uri": "https://localhost:8080/",
          "height": 35
        },
        "outputId": "981c70b0-b8d8-4cf9-fbc3-eaec3419d0d7"
      },
      "source": [
        "def check():\n",
        "    string= \"dsakjc kljasn ckas nkcanskdjnaskndkasnakjnsalkj\"\n",
        "    test_char= \"a\"\n",
        "    count=0\n",
        "    for char in string:    \n",
        "        if char == test_char :\n",
        "            count+=1\n",
        "    return count\n",
        "a= check()\n",
        "print(a)"
      ],
      "execution_count": 62,
      "outputs": [
        {
          "output_type": "stream",
          "text": [
            "8\n"
          ],
          "name": "stdout"
        }
      ]
    },
    {
      "cell_type": "markdown",
      "metadata": {
        "colab_type": "text",
        "id": "MyAADWhtY-ul"
      },
      "source": [
        "### **Exercise no 110:**\n",
        "Write a Python program to get numbers divisible by fifteen from a list using an anonymous function."
      ]
    },
    {
      "cell_type": "code",
      "metadata": {
        "colab_type": "code",
        "id": "m19e3f-9Y-um",
        "colab": {
          "base_uri": "https://localhost:8080/",
          "height": 35
        },
        "outputId": "b9531460-2429-472c-ee00-968156f115ba"
      },
      "source": [
        "def check():\n",
        "    l= [30,15,60,75,4,54,105]\n",
        "    for num in l:    \n",
        "        if num % 15 == 0:\n",
        "            print(num, end= \" \")\n",
        "check()"
      ],
      "execution_count": 65,
      "outputs": [
        {
          "output_type": "stream",
          "text": [
            "30 15 60 75 105 "
          ],
          "name": "stdout"
        }
      ]
    },
    {
      "cell_type": "markdown",
      "metadata": {
        "colab_type": "text",
        "id": "AOjhIem5Y_Hc"
      },
      "source": [
        "### **Exercise no 149:**\n",
        " Write a Python function that takes a positive integer and returns the sum of the cube of all the positive integers smaller than the specified number."
      ]
    },
    {
      "cell_type": "code",
      "metadata": {
        "colab_type": "code",
        "id": "8gMRrdrpY_Hd",
        "colab": {
          "base_uri": "https://localhost:8080/",
          "height": 35
        },
        "outputId": "8432e40a-57cc-4d71-aad9-6b4621b3839c"
      },
      "source": [
        "def check(num):\n",
        "    sum=0\n",
        "    for a in range(num):    \n",
        "        sum+=a**3\n",
        "    return sum\n",
        "check(5)"
      ],
      "execution_count": 67,
      "outputs": [
        {
          "output_type": "execute_result",
          "data": {
            "text/plain": [
              "100"
            ]
          },
          "metadata": {
            "tags": []
          },
          "execution_count": 67
        }
      ]
    }
  ]
}